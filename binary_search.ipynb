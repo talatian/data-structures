{
 "cells": [
  {
   "cell_type": "code",
   "execution_count": 77,
   "metadata": {},
   "outputs": [
    {
     "data": {
      "text/plain": [
       "1"
      ]
     },
     "execution_count": 77,
     "metadata": {},
     "output_type": "execute_result"
    }
   ],
   "source": [
    "def search(num_list, query):\n",
    "    mid_index = (len(num_list) - 1) // 2\n",
    "    if mid_index == -1:\n",
    "        return mid_index\n",
    "    if num_list[mid_index] == query:\n",
    "        return mid_index\n",
    "    elif num_list[mid_index] < query:\n",
    "        index = search(num_list[mid_index+1:], query)\n",
    "        if index == -1:\n",
    "            return -1\n",
    "        else:\n",
    "            return mid_index + 1 + index\n",
    "    else:\n",
    "        return search(num_list[:mid_index], query)\n",
    "    \n",
    "a = [1,2,3,4,5]\n",
    "\n",
    "search(a,2)"
   ]
  },
  {
   "cell_type": "code",
   "execution_count": 100,
   "metadata": {},
   "outputs": [
    {
     "data": {
      "text/plain": [
       "1"
      ]
     },
     "execution_count": 100,
     "metadata": {},
     "output_type": "execute_result"
    }
   ],
   "source": [
    "def search(num_list, query):\n",
    "    left_pointer = 0\n",
    "    right_pointer = len(num_list) - 1\n",
    "    while left_pointer <= right_pointer:\n",
    "        mid_index = (left_pointer + right_pointer) // 2\n",
    "        if num_list[mid_index] == query:\n",
    "            return mid_index\n",
    "        elif num_list[mid_index] < query:\n",
    "            left_pointer = mid_index + 1   \n",
    "        else:\n",
    "            right_pointer = mid_index - 1\n",
    "    return -1\n",
    "\n",
    "    \n",
    "a = [1,2,3,4,5]\n",
    "\n",
    "search(a,2)"
   ]
  },
  {
   "cell_type": "code",
   "execution_count": null,
   "metadata": {},
   "outputs": [],
   "source": []
  }
 ],
 "metadata": {
  "kernelspec": {
   "display_name": "Python 3",
   "language": "python",
   "name": "python3"
  },
  "language_info": {
   "codemirror_mode": {
    "name": "ipython",
    "version": 3
   },
   "file_extension": ".py",
   "mimetype": "text/x-python",
   "name": "python",
   "nbconvert_exporter": "python",
   "pygments_lexer": "ipython3",
   "version": "3.7.5"
  }
 },
 "nbformat": 4,
 "nbformat_minor": 2
}
