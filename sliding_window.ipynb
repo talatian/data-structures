{
 "cells": [
  {
   "cell_type": "code",
   "execution_count": 20,
   "metadata": {},
   "outputs": [
    {
     "data": {
      "text/plain": [
       "11"
      ]
     },
     "execution_count": 20,
     "metadata": {},
     "output_type": "execute_result"
    }
   ],
   "source": [
    "def max_subarray_sum(num_list, sub_size):\n",
    "    if len(num_list) < sub_size:\n",
    "        return None\n",
    "    sum_list = []\n",
    "    for index in range(len(num_list)-sub_size+1):\n",
    "        sum_value = 0\n",
    "        for sub_index in range(index, index+sub_size):\n",
    "            sum_value += num_list[sub_index]\n",
    "        sum_list.append(sum_value)\n",
    "    return max(sum_list)\n",
    "            \n",
    "    \n",
    "a = [1,2,3,4,5,6,2]\n",
    "max_subarray_sum(a,2)"
   ]
  },
  {
   "cell_type": "code",
   "execution_count": 21,
   "metadata": {},
   "outputs": [
    {
     "data": {
      "text/plain": [
       "11"
      ]
     },
     "execution_count": 21,
     "metadata": {},
     "output_type": "execute_result"
    }
   ],
   "source": [
    "def max_subarray_sum(num_list, sub_size):\n",
    "    if len(num_list) < sub_size:\n",
    "        return None\n",
    "    sum_list = []\n",
    "    for index in range(len(num_list)-sub_size+1):\n",
    "        sub_list = num_list[index:index+sub_size]\n",
    "        sum_list.append(sum(sub_list))\n",
    "    return max(sum_list)\n",
    "            \n",
    "    \n",
    "a = [1,2,3,4,5,6,2]\n",
    "max_subarray_sum(a,2)"
   ]
  },
  {
   "cell_type": "code",
   "execution_count": 42,
   "metadata": {},
   "outputs": [
    {
     "data": {
      "text/plain": [
       "11"
      ]
     },
     "execution_count": 42,
     "metadata": {},
     "output_type": "execute_result"
    }
   ],
   "source": [
    "def max_subarray_sum(num_list, sub_size):\n",
    "    if len(num_list) < sub_size:\n",
    "        return None\n",
    "    sub_list = num_list[:sub_size]\n",
    "    sum_value = sum(sub_list)\n",
    "    max_sum = sum_value\n",
    "    for index in range(len(num_list)-sub_size):\n",
    "        sum_value = sum_value - num_list[index] + num_list[index+sub_size]\n",
    "        max_sum = max(sum_value,max_sum)\n",
    "    return max_sum\n",
    "            \n",
    "a = [1,2,3,4,5,6,2,1]\n",
    "max_subarray_sum(a,2)"
   ]
  },
  {
   "cell_type": "code",
   "execution_count": null,
   "metadata": {},
   "outputs": [],
   "source": []
  },
  {
   "cell_type": "code",
   "execution_count": null,
   "metadata": {},
   "outputs": [],
   "source": []
  },
  {
   "cell_type": "code",
   "execution_count": null,
   "metadata": {},
   "outputs": [],
   "source": []
  }
 ],
 "metadata": {
  "kernelspec": {
   "display_name": "Python 3",
   "language": "python",
   "name": "python3"
  },
  "language_info": {
   "codemirror_mode": {
    "name": "ipython",
    "version": 3
   },
   "file_extension": ".py",
   "mimetype": "text/x-python",
   "name": "python",
   "nbconvert_exporter": "python",
   "pygments_lexer": "ipython3",
   "version": "3.7.5"
  }
 },
 "nbformat": 4,
 "nbformat_minor": 2
}
