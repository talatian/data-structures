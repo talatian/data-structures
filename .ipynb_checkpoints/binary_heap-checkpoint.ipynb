{
 "cells": [
  {
   "cell_type": "code",
   "execution_count": 38,
   "metadata": {},
   "outputs": [],
   "source": [
    "import math\n",
    "\n",
    "class BinaryHeap:\n",
    "    def __init__(self, values=[]):\n",
    "        self.values = values\n",
    "    \n",
    "    def insert(self, value):\n",
    "        self.values.append(value)\n",
    "        index = len(self.values) - 1\n",
    "        parent = math.floor((index-1)/2)\n",
    "        while self.values[index] > self.values[parent] and index > 0:\n",
    "            self.values[index], self.values[parent] = self.values[parent], self.values[index]\n",
    "            index = parent\n",
    "            parent = math.floor((index-1)/2)\n",
    "        return self.values\n",
    "    \n",
    "    def __str__(self): \n",
    "        def traverse(node_index, level=0):\n",
    "            try:\n",
    "                self.values[node_index]\n",
    "            except:\n",
    "                return ''\n",
    "            right_node_index = 2*node_index+2\n",
    "            ret = traverse(right_node_index, level+1)\n",
    "            ret += level * 10 * ' '\n",
    "            ret += str(self.values[node_index]) + '\\n'\n",
    "            left_node_index = 2*node_index+1\n",
    "            ret += traverse(left_node_index, level+1)\n",
    "            return ret\n",
    "        return traverse(0)    \n",
    "        "
   ]
  },
  {
   "cell_type": "code",
   "execution_count": 39,
   "metadata": {},
   "outputs": [
    {
     "name": "stdout",
     "output_type": "stream",
     "text": [
      "                    15\n",
      "          22\n",
      "                    2\n",
      "100\n",
      "                    1\n",
      "          100\n",
      "                    20\n",
      "                              10\n",
      "\n"
     ]
    }
   ],
   "source": [
    "bh = BinaryHeap()\n",
    "bh.insert(10)\n",
    "bh.insert(15)\n",
    "bh.insert(20)\n",
    "bh.insert(100)\n",
    "bh.insert(1)\n",
    "bh.insert(2)\n",
    "bh.insert(22)\n",
    "bh.insert(100)\n",
    "\n",
    "print(bh)"
   ]
  },
  {
   "cell_type": "code",
   "execution_count": null,
   "metadata": {},
   "outputs": [],
   "source": []
  },
  {
   "cell_type": "code",
   "execution_count": null,
   "metadata": {},
   "outputs": [],
   "source": []
  }
 ],
 "metadata": {
  "kernelspec": {
   "display_name": "Python 3",
   "language": "python",
   "name": "python3"
  },
  "language_info": {
   "codemirror_mode": {
    "name": "ipython",
    "version": 3
   },
   "file_extension": ".py",
   "mimetype": "text/x-python",
   "name": "python",
   "nbconvert_exporter": "python",
   "pygments_lexer": "ipython3",
   "version": "3.7.4"
  }
 },
 "nbformat": 4,
 "nbformat_minor": 2
}
