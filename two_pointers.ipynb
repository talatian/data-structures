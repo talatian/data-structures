{
 "cells": [
  {
   "cell_type": "code",
   "execution_count": 31,
   "metadata": {},
   "outputs": [
    {
     "data": {
      "text/plain": [
       "[-5, 5]"
      ]
     },
     "execution_count": 31,
     "metadata": {},
     "output_type": "execute_result"
    }
   ],
   "source": [
    "a= [-8, -6, -5, -3, -2, -1, -1, 1, 5, 5]\n",
    "\n",
    "def zero_sum(num_list):\n",
    "    list_length = len(num_list)\n",
    "    for first_index in range(list_length):\n",
    "        for second_index in range(first_index+1, list_length):\n",
    "            sum_value = num_list[first_index] + num_list[second_index]\n",
    "            if sum_value == 0:\n",
    "                return [num_list[first_index], num_list[second_index]]\n",
    "    return \"undefined\"\n",
    "        \n",
    "zero_sum(a)\n",
    "            "
   ]
  },
  {
   "cell_type": "code",
   "execution_count": 35,
   "metadata": {},
   "outputs": [
    {
     "data": {
      "text/plain": [
       "'undefined'"
      ]
     },
     "execution_count": 35,
     "metadata": {},
     "output_type": "execute_result"
    }
   ],
   "source": [
    "a= [-8, -6, -5, -3, -2, -1, -1, -1, 4, 7]\n",
    "\n",
    "def zero_sum(num_list):\n",
    "    left_pointer = 0\n",
    "    right_pointer = len(num_list) - 1\n",
    "    while left_pointer < right_pointer:\n",
    "        sum_value = num_list[left_pointer] + num_list[right_pointer]\n",
    "        if sum_value < 0:\n",
    "            left_pointer += 1\n",
    "        elif sum_value > 0:\n",
    "            right_pointer -= 1\n",
    "        else:\n",
    "            return [num_list[left_pointer], num_list[right_pointer]]\n",
    "    return \"undefined\"\n",
    "    \n",
    "zero_sum(a)\n",
    "    "
   ]
  },
  {
   "cell_type": "code",
   "execution_count": 48,
   "metadata": {},
   "outputs": [
    {
     "data": {
      "text/plain": [
       "1"
      ]
     },
     "execution_count": 48,
     "metadata": {},
     "output_type": "execute_result"
    }
   ],
   "source": [
    "def count_unique_values(num_list):\n",
    "    num_dict = dict()\n",
    "    for num in num_list:\n",
    "        num_dict[num] = num_dict.get(num, 0) + 1\n",
    "    return len(num_dict.keys())\n",
    "\n",
    "a = [1, 1, 2, 2, 3, -1]\n",
    "count_unique_values(a)"
   ]
  },
  {
   "cell_type": "code",
   "execution_count": 74,
   "metadata": {},
   "outputs": [
    {
     "data": {
      "text/plain": [
       "3"
      ]
     },
     "execution_count": 74,
     "metadata": {},
     "output_type": "execute_result"
    }
   ],
   "source": [
    "def count_unique_values(num_list):\n",
    "    left_pointer = 0\n",
    "    length = len(num_list)\n",
    "    if length == 0:\n",
    "        return 0\n",
    "    for right_pointer in range(length):\n",
    "        if num_list[left_pointer] != num_list[right_pointer]:\n",
    "            left_pointer += 1\n",
    "            num_list[left_pointer] = num_list[right_pointer]\n",
    "        else:\n",
    "            right_pointer += 1\n",
    "    return left_pointer + 1\n",
    "\n",
    "a = [1,2,2,5]\n",
    "\n",
    "count_unique_values(a)"
   ]
  },
  {
   "cell_type": "code",
   "execution_count": null,
   "metadata": {},
   "outputs": [],
   "source": []
  }
 ],
 "metadata": {
  "kernelspec": {
   "display_name": "Python 3",
   "language": "python",
   "name": "python3"
  },
  "language_info": {
   "codemirror_mode": {
    "name": "ipython",
    "version": 3
   },
   "file_extension": ".py",
   "mimetype": "text/x-python",
   "name": "python",
   "nbconvert_exporter": "python",
   "pygments_lexer": "ipython3",
   "version": "3.7.5"
  }
 },
 "nbformat": 4,
 "nbformat_minor": 2
}
