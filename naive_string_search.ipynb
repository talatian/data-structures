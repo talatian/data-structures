{
 "cells": [
  {
   "cell_type": "code",
   "execution_count": 11,
   "metadata": {},
   "outputs": [
    {
     "data": {
      "text/plain": [
       "2"
      ]
     },
     "execution_count": 11,
     "metadata": {},
     "output_type": "execute_result"
    }
   ],
   "source": [
    "def string_search(string, query):\n",
    "    query_length = len(query)\n",
    "    string_length = len(string)\n",
    "    count = 0\n",
    "    \n",
    "    for index in range(string_length - query_length + 1):\n",
    "        if string[index:index + query_length] == query:\n",
    "            count += 1\n",
    "    return count\n",
    "\n",
    "\n",
    "string = \"some thing happened in some day\"\n",
    "string_search(string, \"some\")"
   ]
  },
  {
   "cell_type": "code",
   "execution_count": null,
   "metadata": {},
   "outputs": [],
   "source": []
  }
 ],
 "metadata": {
  "kernelspec": {
   "display_name": "Python 3",
   "language": "python",
   "name": "python3"
  },
  "language_info": {
   "codemirror_mode": {
    "name": "ipython",
    "version": 3
   },
   "file_extension": ".py",
   "mimetype": "text/x-python",
   "name": "python",
   "nbconvert_exporter": "python",
   "pygments_lexer": "ipython3",
   "version": "3.7.5"
  }
 },
 "nbformat": 4,
 "nbformat_minor": 2
}
