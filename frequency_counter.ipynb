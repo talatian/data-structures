{
 "cells": [
  {
   "cell_type": "code",
   "execution_count": 48,
   "metadata": {},
   "outputs": [
    {
     "data": {
      "text/plain": [
       "True"
      ]
     },
     "execution_count": 48,
     "metadata": {},
     "output_type": "execute_result"
    }
   ],
   "source": [
    "a=[1,2,3,3];\n",
    "b=[4,1,9,9];\n",
    "def counter(num_list, square_list):\n",
    "    num_dict = dict()\n",
    "    square_dict = dict()\n",
    "    for num in num_list:\n",
    "        num_dict[num] = num_dict.get(num, 0) + 1\n",
    "    for num in square_list:\n",
    "        square_dict[num] = square_dict.get(num, 0) + 1\n",
    "    for num in num_dict:\n",
    "        if num_dict[num] != square_dict.get(num**2):\n",
    "            return False\n",
    "    return True\n",
    "                \n",
    "counter(a,b)"
   ]
  },
  {
   "cell_type": "code",
   "execution_count": 35,
   "metadata": {},
   "outputs": [
    {
     "data": {
      "text/plain": [
       "True"
      ]
     },
     "execution_count": 35,
     "metadata": {},
     "output_type": "execute_result"
    }
   ],
   "source": [
    "a=[1,2,3,1,3];\n",
    "b=[4,1,9,9,1];\n",
    "\n",
    "def counter(num_list, square_list):\n",
    "    for num in num_list:\n",
    "        try:\n",
    "            square_list.remove(num**2)\n",
    "        except ValueError:\n",
    "            return False\n",
    "    if len(square_list) == 0:\n",
    "        return True\n",
    "    else:\n",
    "        return False  \n",
    "                \n",
    "counter(a,b)"
   ]
  },
  {
   "cell_type": "code",
   "execution_count": 56,
   "metadata": {},
   "outputs": [
    {
     "data": {
      "text/plain": [
       "True"
      ]
     },
     "execution_count": 56,
     "metadata": {},
     "output_type": "execute_result"
    }
   ],
   "source": [
    "a=\"anagram\";\n",
    "b=\"margana\";\n",
    "def valid_anagram(word1, word2):\n",
    "    word1_dict = dict()\n",
    "    word2_dict = dict()\n",
    "    for char in word1:\n",
    "        word1_dict[char] = word1_dict.get(char, 0) + 1\n",
    "    for char in word2:\n",
    "        word2_dict[char] = word2_dict.get(char, 0) + 1\n",
    "    for char in word1_dict:\n",
    "        if word1_dict[char] != word2_dict.get(char):\n",
    "            return False\n",
    "    return True\n",
    "                \n",
    "valid_anagram(a,b)"
   ]
  },
  {
   "cell_type": "code",
   "execution_count": 73,
   "metadata": {},
   "outputs": [
    {
     "data": {
      "text/plain": [
       "True"
      ]
     },
     "execution_count": 73,
     "metadata": {},
     "output_type": "execute_result"
    }
   ],
   "source": [
    "a=\"anagram\";\n",
    "b=\"margana\";\n",
    "def valid_anagram(word1, word2):\n",
    "    word_dict = dict()\n",
    "    for char in word1:\n",
    "        word_dict[char] = word_dict.get(char, 0) + 1\n",
    "    for char in word2:\n",
    "        word_dict[char] = word_dict.get(char, 0) - 1\n",
    "        if word_dict[char] < 0:\n",
    "            return False\n",
    "    return True\n",
    "                \n",
    "valid_anagram(a,b)"
   ]
  }
 ],
 "metadata": {
  "kernelspec": {
   "display_name": "Python 3",
   "language": "python",
   "name": "python3"
  },
  "language_info": {
   "codemirror_mode": {
    "name": "ipython",
    "version": 3
   },
   "file_extension": ".py",
   "mimetype": "text/x-python",
   "name": "python",
   "nbconvert_exporter": "python",
   "pygments_lexer": "ipython3",
   "version": "3.7.5"
  }
 },
 "nbformat": 4,
 "nbformat_minor": 2
}
