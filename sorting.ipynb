{
 "cells": [
  {
   "cell_type": "code",
   "execution_count": 8,
   "metadata": {},
   "outputs": [
    {
     "name": "stdout",
     "output_type": "stream",
     "text": [
      "[2, 4, 3, 1, 5]\n",
      "[2, 3, 1, 4, 5]\n",
      "[2, 1, 3, 4, 5]\n",
      "[1, 2, 3, 4, 5]\n",
      "[1, 2, 3, 4, 5]\n"
     ]
    },
    {
     "data": {
      "text/plain": [
       "[1, 2, 3, 4, 5]"
      ]
     },
     "execution_count": 8,
     "metadata": {},
     "output_type": "execute_result"
    }
   ],
   "source": [
    "def bubble_sort(array):\n",
    "    length = len(array)\n",
    "    is_sorted = False\n",
    "    while not is_sorted:\n",
    "        is_sorted = True\n",
    "        for index in range(length-1):\n",
    "            if array[index] > array[index+1]:\n",
    "                array[index], array[index+1] = array[index+1], array[index]\n",
    "                is_sorted = False\n",
    "        length -= 1\n",
    "        print(array)\n",
    "    return array\n",
    "\n",
    "\n",
    "array = [4,2,5,3,1]\n",
    "bubble_sort(array)\n",
    "    \n",
    "    "
   ]
  },
  {
   "cell_type": "code",
   "execution_count": 16,
   "metadata": {},
   "outputs": [
    {
     "data": {
      "text/plain": [
       "[1, 2, 3, 4, 5]"
      ]
     },
     "execution_count": 16,
     "metadata": {},
     "output_type": "execute_result"
    }
   ],
   "source": [
    "def selection_sort(array):\n",
    "    array_length = len(array)\n",
    "    for start_index in range(array_length-1):\n",
    "        min_index = start_index\n",
    "        for index in range(start_index, array_length):\n",
    "            if array[index] < array[min_index]:\n",
    "                min_index = index\n",
    "        array[start_index], array[min_index] = array[min_index], array[start_index]\n",
    "    return array\n",
    "        \n",
    "\n",
    "\n",
    "array = [4,2,5,3,1]\n",
    "selection_sort(array)\n",
    "    "
   ]
  },
  {
   "cell_type": "code",
   "execution_count": 1,
   "metadata": {},
   "outputs": [
    {
     "name": "stdout",
     "output_type": "stream",
     "text": [
      "[4]\n",
      "[2, 4]\n",
      "[2, 4, 5]\n",
      "[2, 3, 4, 5]\n",
      "[1, 2, 3, 4, 5]\n"
     ]
    },
    {
     "data": {
      "text/plain": [
       "[1, 2, 3, 4, 5]"
      ]
     },
     "execution_count": 1,
     "metadata": {},
     "output_type": "execute_result"
    }
   ],
   "source": [
    "def insertion_sort(array):\n",
    "    sorted_array = []\n",
    "    for item in array:\n",
    "        sorted_array  = insert(sorted_array, item)\n",
    "        print(sorted_array)\n",
    "    return sorted_array\n",
    "    \n",
    "def insert(sorted_array, new_item):\n",
    "    new_array = []\n",
    "    appended = False\n",
    "    for item in sorted_array:\n",
    "        if new_item < item and appended == False:\n",
    "            new_array.append(new_item)\n",
    "            appended = True\n",
    "        new_array.append(item)\n",
    "    if len(new_array) == len(sorted_array):\n",
    "        new_array.append(new_item)\n",
    "    return new_array\n",
    "            \n",
    "array = [4,2,5,3,1]\n",
    "insertion_sort(array)\n",
    "    "
   ]
  },
  {
   "cell_type": "code",
   "execution_count": 12,
   "metadata": {},
   "outputs": [
    {
     "data": {
      "text/plain": [
       "[1, 2, 3, 4, 5]"
      ]
     },
     "execution_count": 12,
     "metadata": {},
     "output_type": "execute_result"
    }
   ],
   "source": [
    "def insertion_sort(array):\n",
    "    array_length = len(array)\n",
    "    for i in range(1, array_length):\n",
    "        key = array[i]\n",
    "        j = i - 1\n",
    "        while(j>=0 and key<array[j]):\n",
    "            array[j+1] = array[j]\n",
    "            j -= 1\n",
    "        array[j+1] = key\n",
    "    return array\n",
    "    \n",
    "            \n",
    "array = [5,3,4,2,1]\n",
    "insertion_sort(array)"
   ]
  },
  {
   "cell_type": "code",
   "execution_count": 17,
   "metadata": {},
   "outputs": [
    {
     "data": {
      "text/plain": [
       "[1, 2, 3, 4, 5, 6, 7]"
      ]
     },
     "execution_count": 17,
     "metadata": {},
     "output_type": "execute_result"
    }
   ],
   "source": [
    "def merge_sorted_arrays(first_array, second_array):\n",
    "    second_pointer = 0\n",
    "    merged_array = []\n",
    "    for item in first_array:\n",
    "        while second_pointer < len(second_array) and second_array[second_pointer] <= item:\n",
    "            merged_array.append(second_array[second_pointer])\n",
    "            second_pointer += 1\n",
    "        merged_array.append(item)\n",
    "    return merged_array\n",
    "    \n",
    "\n",
    "first_array = [1,3,5,7]\n",
    "second_array = [2,4,6,8]\n",
    "\n",
    "merge_sorted(first_array, second_array)"
   ]
  },
  {
   "cell_type": "code",
   "execution_count": 22,
   "metadata": {},
   "outputs": [
    {
     "name": "stdout",
     "output_type": "stream",
     "text": [
      "first:[5, 4] second:[3, 2, 1]\n",
      "first:[5] second:[4]\n",
      "first:[3] second:[2, 1]\n",
      "first:[2] second:[1]\n"
     ]
    },
    {
     "data": {
      "text/plain": [
       "[1, 2, 3, 4, 5]"
      ]
     },
     "execution_count": 22,
     "metadata": {},
     "output_type": "execute_result"
    }
   ],
   "source": [
    "def merge_sort(array):\n",
    "    if len(array) <= 1:\n",
    "        return array\n",
    "    mid_index = len(array) // 2\n",
    "    first_half = array[:mid_index]\n",
    "    second_half = array[mid_index:]\n",
    "    print(f\"first:{first_half} second:{second_half}\")\n",
    "    return merge_sorted_arrays(merge_sort(first_half), merge_sort(second_half))\n",
    "    \n",
    "\n",
    "    \n",
    "def merge_sorted_arrays(first_array, second_array):\n",
    "    second_pointer = 0\n",
    "    merged_array = []\n",
    "    for item in first_array:\n",
    "        while second_pointer < len(second_array) and second_array[second_pointer] <= item:\n",
    "            merged_array.append(second_array[second_pointer])\n",
    "            second_pointer += 1\n",
    "        merged_array.append(item)\n",
    "    return merged_array\n",
    "    \n",
    "merge_sort([5,4,3,2,1])"
   ]
  },
  {
   "cell_type": "code",
   "execution_count": null,
   "metadata": {},
   "outputs": [],
   "source": []
  }
 ],
 "metadata": {
  "kernelspec": {
   "display_name": "Python 3",
   "language": "python",
   "name": "python3"
  },
  "language_info": {
   "codemirror_mode": {
    "name": "ipython",
    "version": 3
   },
   "file_extension": ".py",
   "mimetype": "text/x-python",
   "name": "python",
   "nbconvert_exporter": "python",
   "pygments_lexer": "ipython3",
   "version": "3.7.5"
  }
 },
 "nbformat": 4,
 "nbformat_minor": 2
}
